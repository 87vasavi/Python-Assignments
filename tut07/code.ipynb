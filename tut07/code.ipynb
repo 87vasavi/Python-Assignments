{
 "cells": [
  {
   "cell_type": "code",
   "execution_count": 79,
   "metadata": {},
   "outputs": [],
   "source": [
    "import os\n",
    "import pandas as pd\n",
    "import numpy as np\n",
    "import csv\n",
    "import openpyxl"
   ]
  },
  {
   "cell_type": "code",
   "execution_count": 64,
   "metadata": {},
   "outputs": [],
   "source": [
    "class data_of_student:\n",
    "    \n",
    "    def __init__(self,roll_no,name,email,aemail,contact):\n",
    "        self.name=name\n",
    "        self.email=email\n",
    "        self.aemail=aemail\n",
    "        self.contact=contact\n",
    "        self.roll_no=roll_no\n",
    "        self.courses=dict()\n",
    "    \n",
    "# course obj will ltp and other info of a course \n",
    "class course:\n",
    "    def __init__(self,lec,tut,prac):\n",
    "        self.lec=lec\n",
    "        self.tut=tut\n",
    "        self.prac=prac\n",
    "        \n",
    "class course_info_of_student:\n",
    "    \n",
    "    def __init__(self,lval,tval,pval):\n",
    "        \n",
    "        # here if lval=0 then there is no need to check if the student has given feedback so we initialize it to True  \n",
    "        # if lval!=0 then we initialize it to False and then we check using cfbs similarly for tval and pval \n",
    "        \n",
    "        self.lval=not lval \n",
    "        self.tval=not tval\n",
    "        self.pval=not pval\n",
    "        self.reg_sem=''\n",
    "        self.sched_sem=''\n",
    "        "
   ]
  },
  {
   "cell_type": "code",
   "execution_count": 77,
   "metadata": {},
   "outputs": [],
   "source": [
    "def feedback_not_submitted():\n",
    "\n",
    "\n",
    "    #ltp_mapping_feedback_type = {1: 'lecture', 2: 'tutorial', 3:'practical'}\n",
    "    \n",
    "    rows=[]\n",
    "    \n",
    "    # checking if the student has given feedback of ltp of all the courses that they registered.\n",
    "    for stud in student:\n",
    "        s=student[stud]   \n",
    "        for cour in s.courses:\n",
    "            c=s.courses[cour]\n",
    "            \n",
    "            # here if all feedbacks that are should be given so, lval, tval, pval should be true \n",
    "            #for the course else they should be added to the rows with thier data and course name\n",
    "            if not(c.lval and c.tval and c.pval):\n",
    "                \n",
    "                eachrow=[stud,c.reg_sem,c.sched_sem,cour,s.name,s.email,s.aemail,s.contact]\n",
    "                rows.append([])\n",
    "                \n",
    "                for x in eachrow:\n",
    "                    rows[-1].append(x)\n",
    "                    \n",
    "                break    \n",
    "    \n",
    "    data=np.array(rows)\n",
    "    df=pd.DataFrame(data,columns=['rollno','register_sem','schedule_sem','subno','Name','email','aemail','contact'])\n",
    "    \n",
    "    output_file_name='course_feedback_remaining.xlsx'\n",
    "    if os.path.exists(output_file_name):\n",
    "        os.remove(output_file_name)\n",
    "    df.to_excel(output_file_name) \n",
    "    \n",
    " "
   ]
  },
  {
   "cell_type": "code",
   "execution_count": 66,
   "metadata": {},
   "outputs": [],
   "source": [
    " #courses data and their ltp\n",
    "cmdoe=pd.read_csv('course_master_dont_open_in_excel.csv')\n",
    "\n",
    "#student details \n",
    "s_info=pd.read_csv('studentinfo.csv')   \n",
    "\n",
    "# to know what courses are taken by students\n",
    "s_data=pd.read_csv('course_registered_by_all_students.csv')\n",
    "\n",
    "#feedback form\n",
    "cfbs=pd.read_csv('course_feedback_submitted_by_students.csv') \n"
   ]
  },
  {
   "cell_type": "code",
   "execution_count": 67,
   "metadata": {},
   "outputs": [],
   "source": [
    "# course_info dict will store objects of courses with key as course number\n",
    "course_info=dict()\n",
    "\n",
    "#student dict store objects of data_of_student with key as roll number\n",
    "student=dict()"
   ]
  },
  {
   "cell_type": "code",
   "execution_count": 68,
   "metadata": {},
   "outputs": [],
   "source": [
    "# fetching data from cmdoe which has courses and their info \n",
    "for index, x in cmdoe.iterrows():\n",
    "    \n",
    "    l,t,p=map(float,list(x['ltp'].split('-')))\n",
    "    course_info[x['subno']]=course(l,t,p)"
   ]
  },
  {
   "cell_type": "code",
   "execution_count": 69,
   "metadata": {},
   "outputs": [],
   "source": [
    "# fetching data from s_info which has all students information\n",
    "for index, name in s_info.iterrows():\n",
    "    \n",
    "    if name['Roll No'] not in student:\n",
    "        \n",
    "        student[name['Roll No']]=data_of_student(name['Roll No'],name['Name'],name['email'],name['aemail'],name['contact'])\n"
   ]
  },
  {
   "cell_type": "code",
   "execution_count": 71,
   "metadata": {},
   "outputs": [],
   "source": [
    "# storing what courses were taken by each student \n",
    "for index, x in s_data.iterrows():\n",
    "    \n",
    "    # if the student is not present in student info\n",
    "    if x['rollno'] not in student:\n",
    "        student[x['rollno']]=data_of_student(x['rollno'],'Not_in_student_info','Not_in_student_info','Not_in_student_info','Not_in_student_info')\n",
    "    \n",
    "    \n",
    "    # storing course_info_of_student in courses of data_of_student object of student[x['rollno']]\n",
    "    lval=int(course_info[x['subno']].lec)\n",
    "    tval=int(course_info[x['subno']].tut)\n",
    "    pval=int(course_info[x['subno']].prac)\n",
    "    \n",
    "    student[x['rollno']].courses[x['subno']]=course_info_of_student(lval,tval,pval)\n",
    "    \n",
    "    \n",
    "    #similarly \n",
    "    student[x['rollno']].courses[x['subno']].reg_sem=x['register_sem']\n",
    "    student[x['rollno']].courses[x['subno']].sched_sem=x['schedule_sem']\n",
    "        "
   ]
  },
  {
   "cell_type": "code",
   "execution_count": 75,
   "metadata": {},
   "outputs": [],
   "source": [
    "for index, i in cfbs.iterrows():\n",
    "    \n",
    "    if i['feedback_type']==1 :\n",
    "        student[i['stud_roll']].courses[i['course_code']].lval=1\n",
    "    elif i['feedback_type']==2:\n",
    "        student[i['stud_roll']].courses[i['course_code']].tval=1\n",
    "    else:\n",
    "        student[i['stud_roll']].courses[i['course_code']].pval=1\n"
   ]
  },
  {
   "cell_type": "code",
   "execution_count": 78,
   "metadata": {},
   "outputs": [],
   "source": [
    "feedback_not_submitted()"
   ]
  },
  {
   "cell_type": "code",
   "execution_count": null,
   "metadata": {},
   "outputs": [],
   "source": []
  }
 ],
 "metadata": {
  "kernelspec": {
   "display_name": "Python 3",
   "language": "python",
   "name": "python3"
  },
  "language_info": {
   "codemirror_mode": {
    "name": "ipython",
    "version": 3
   },
   "file_extension": ".py",
   "mimetype": "text/x-python",
   "name": "python",
   "nbconvert_exporter": "python",
   "pygments_lexer": "ipython3",
   "version": "3.7.4"
  }
 },
 "nbformat": 4,
 "nbformat_minor": 2
}
